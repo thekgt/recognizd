{
 "cells": [
  {
   "cell_type": "markdown",
   "metadata": {},
   "source": [
    "# Welcome to **A Gentle Introduction to Machine Learning Using SciKit-Learn**"
   ]
  },
  {
   "cell_type": "markdown",
   "metadata": {},
   "source": [
    "**Where does machine learning fit into data science?**\n",
    "\n",
    "Data science is a much broader discipline. \n",
    "\n",
    "> Data Scientists take the raw data, analyse it, connect the dots and tell a story often via several visualizations. They usually have a broader range of skill-set and may not have too much depth into more than one or two. They are more on the creative side. Like an Artist. An Engineer, on the other hand, is someone who looks at the data as something they have to take in and churn out an output in some appropriate form in the most efficient way possible. The implementation details and other efficiency hacks are usually on the tip of their fingers. There can be a lot of overlap between the two but it is more like A Data Scientist is a Machine Learning Engineer but not the other way round. -- Ria Chakraborty, Data Scientist\n",
    "\n",
    "\n",
    "\n"
   ]
  },
  {
   "cell_type": "markdown",
   "metadata": {},
   "source": [
    "### Machine Learning Can Only Answer 5 Questions\n",
    "\n",
    "\n",
    "* How much/how many?\n",
    "* Which category?\n",
    "* Which group?\n",
    "* Is it weird?\n",
    "* Which action?\n",
    "\n",
    "<p style=\"text-align:right\"><i>explained well by Brandon Rohrer [here]((https://channel9.msdn.com/blogs/Cloud-and-Enterprise-Premium/Data-Science-for-Rest-of-Us)</i></p>"
   ]
  },
  {
   "cell_type": "markdown",
   "metadata": {},
   "source": [
    "### sklearns way of algorithms\n",
    "\n",
    "Here is sklearn's algorithm diagram. The interactive version is [here](http://scikit-learn.org/stable/tutorial/machine_learning_map/).\n",
    "![sklearn's ML map](https://az712634.vo.msecnd.net/notebooks/python_course/v1/ml_map.png)"
   ]
  },
  {
   "cell_type": "markdown",
   "metadata": {},
   "source": [
    "**Why I like scikit-learn**\n",
    "\n",
    "- Commitment to documentation and usability\n",
    "\n",
    "- Models are chosen and implemented by a dedicated team of experts\n",
    "\n",
    "- Covers most machine-learning tasks\n",
    "\n",
    "- Python and Pydata\n",
    "\n",
    "- Focus\n",
    "\n",
    "- Scikit-learn scales to most data problems\n",
    "\n",
    "- <p><a href=\"http://oreil.ly/2n7xnVJ\"> Ben Lorica on Using SciKit-Learn</a></p>\n"
   ]
  },
  {
   "cell_type": "markdown",
   "metadata": {},
   "source": [
    "**Getting Started**\n",
    "\n",
    "- Installing Python \n",
    "\n",
    "- <p><a href=\"https://www.continuum.io/downloads\"> Anaconda Installer</a></p>\n",
    "\n",
    "- Using Jupyter Notebooks\n",
    "\n",
    "- Importing Libraries and Modules\n"
   ]
  },
  {
   "cell_type": "markdown",
   "metadata": {},
   "source": [
    "# **The Model Building Starts Now...**"
   ]
  },
  {
   "cell_type": "markdown",
   "metadata": {},
   "source": [
    "The word **'import'** simply means... bring in these libraries so we can use them. \n",
    "\n",
    "When we use the **from** keyword with import it means we are only importing one section or module. In the code below we are importing **read_csv** from pandas and **set_printoptions** from numpy. \n",
    "\n",
    "The word **numpy** means numerical python. "
   ]
  },
  {
   "cell_type": "code",
   "execution_count": 2,
   "metadata": {},
   "outputs": [],
   "source": [
    "from pandas import read_csv\n",
    "from numpy import set_printoptions "
   ]
  },
  {
   "cell_type": "markdown",
   "metadata": {},
   "source": [
    "Most machine learning tools use CSV files. A CSV fie is a comma separated values file. \n",
    "It's like an excel spreadsheet. In the learning world we get to work with very clean csv files. \n",
    "\n",
    "> In the real world... not so much. \n",
    "\n",
    "The data set we are working with was exported from a SQL Server data warehouse training database. \n"
   ]
  },
  {
   "cell_type": "markdown",
   "metadata": {},
   "source": [
    "In the code below we are reading a csv file. Notice that we are not specifying a path. So, how does the notebook know where the csv file is? Because we've placed it in the working directory. "
   ]
  },
  {
   "cell_type": "markdown",
   "metadata": {},
   "source": [
    "You can use the os.getwd() function to see where your working directory is. "
   ]
  },
  {
   "cell_type": "code",
   "execution_count": 3,
   "metadata": {},
   "outputs": [],
   "source": [
    "filename = 'BBC.csv'\n",
    "dataframe = read_csv(filename) "
   ]
  },
  {
   "cell_type": "code",
   "execution_count": 4,
   "metadata": {},
   "outputs": [
    {
     "ename": "SyntaxError",
     "evalue": "invalid syntax (<ipython-input-4-17841d0ea538>, line 2)",
     "traceback": [
      "\u001b[0;36m  File \u001b[0;32m\"<ipython-input-4-17841d0ea538>\"\u001b[0;36m, line \u001b[0;32m2\u001b[0m\n\u001b[0;31m    print os.getcwd()\u001b[0m\n\u001b[0m           ^\u001b[0m\n\u001b[0;31mSyntaxError\u001b[0m\u001b[0;31m:\u001b[0m invalid syntax\n"
     ],
     "output_type": "error"
    }
   ],
   "source": [
    "import  os\n",
    "print os.getcwd() "
   ]
  },
  {
   "cell_type": "markdown",
   "metadata": {},
   "source": [
    "This course focuses on a specific sub-field of machine learning called **predictive modeling.**\n",
    "\n",
    "This is the type of machine learning that the scikit-learn library in Python was desinged for. \n",
    "\n",
    ">**Predictive modeling** is focused on developing models that make accurate predictions at the expense of explaining why predictions are made. \n",
    "\n",
    "You and I don't need to be able to write a binary classification model. We need to know how to use and interpret the results of the model. "
   ]
  },
  {
   "cell_type": "markdown",
   "metadata": {},
   "source": [
    "In the code below take note of the syntax used to specify a folder NOT in the default directory. \n",
    "\n",
    "> The **df** is just a variable for holding the csv file. In a few cells below this one we will call the variable dataframe. "
   ]
  },
  {
   "cell_type": "code",
   "execution_count": 6,
   "metadata": {},
   "outputs": [],
   "source": [
    "df = read_csv('BBC.csv')"
   ]
  },
  {
   "cell_type": "markdown",
   "metadata": {},
   "source": [
    "We can use the head() function to return the top x number of rows. \n",
    "\n",
    "> We can put a number in the function to return any number we like. \n",
    "\n",
    "For example, we can run dataframe.head(25) to return the top 25 rows. "
   ]
  },
  {
   "cell_type": "markdown",
   "metadata": {},
   "source": [
    "Now we can investigate our data. Let's see how many **attributes** and how many **observations** there are in our data set. \n",
    "\n",
    "> Notice we are using the alias dataframe that we used when we read in our data set. \n",
    "\n",
    "Using **shape** really means... how many columns in rows are in our data set.\n",
    "\n",
    "Don't forget the dataframe is just the alias we are using. "
   ]
  },
  {
   "cell_type": "code",
   "execution_count": 7,
   "metadata": {},
   "outputs": [
    {
     "data": {
      "text/html": [
       "<div>\n",
       "<style scoped>\n",
       "    .dataframe tbody tr th:only-of-type {\n",
       "        vertical-align: middle;\n",
       "    }\n",
       "\n",
       "    .dataframe tbody tr th {\n",
       "        vertical-align: top;\n",
       "    }\n",
       "\n",
       "    .dataframe thead th {\n",
       "        text-align: right;\n",
       "    }\n",
       "</style>\n",
       "<table border=\"1\" class=\"dataframe\">\n",
       "  <thead>\n",
       "    <tr style=\"text-align: right;\">\n",
       "      <th></th>\n",
       "      <th>MaritalStatus</th>\n",
       "      <th>Gender</th>\n",
       "      <th>YearlyIncome</th>\n",
       "      <th>TotalChildren</th>\n",
       "      <th>NumberChildrenAtHome</th>\n",
       "      <th>EnglishEducation</th>\n",
       "      <th>HouseOwnerFlag</th>\n",
       "      <th>NumberCarsOwned</th>\n",
       "      <th>CommuteDistance</th>\n",
       "      <th>Region</th>\n",
       "      <th>Age</th>\n",
       "      <th>BikeBuyer</th>\n",
       "    </tr>\n",
       "  </thead>\n",
       "  <tbody>\n",
       "    <tr>\n",
       "      <th>18479</th>\n",
       "      <td>4</td>\n",
       "      <td>1</td>\n",
       "      <td>30000</td>\n",
       "      <td>1</td>\n",
       "      <td>0</td>\n",
       "      <td>4</td>\n",
       "      <td>1</td>\n",
       "      <td>0</td>\n",
       "      <td>1</td>\n",
       "      <td>3</td>\n",
       "      <td>58</td>\n",
       "      <td>1</td>\n",
       "    </tr>\n",
       "    <tr>\n",
       "      <th>18480</th>\n",
       "      <td>4</td>\n",
       "      <td>2</td>\n",
       "      <td>30000</td>\n",
       "      <td>3</td>\n",
       "      <td>0</td>\n",
       "      <td>4</td>\n",
       "      <td>1</td>\n",
       "      <td>0</td>\n",
       "      <td>1</td>\n",
       "      <td>3</td>\n",
       "      <td>56</td>\n",
       "      <td>1</td>\n",
       "    </tr>\n",
       "    <tr>\n",
       "      <th>18481</th>\n",
       "      <td>4</td>\n",
       "      <td>1</td>\n",
       "      <td>30000</td>\n",
       "      <td>3</td>\n",
       "      <td>0</td>\n",
       "      <td>4</td>\n",
       "      <td>0</td>\n",
       "      <td>0</td>\n",
       "      <td>1</td>\n",
       "      <td>3</td>\n",
       "      <td>57</td>\n",
       "      <td>1</td>\n",
       "    </tr>\n",
       "    <tr>\n",
       "      <th>18482</th>\n",
       "      <td>5</td>\n",
       "      <td>1</td>\n",
       "      <td>30000</td>\n",
       "      <td>3</td>\n",
       "      <td>0</td>\n",
       "      <td>5</td>\n",
       "      <td>1</td>\n",
       "      <td>0</td>\n",
       "      <td>1</td>\n",
       "      <td>3</td>\n",
       "      <td>58</td>\n",
       "      <td>1</td>\n",
       "    </tr>\n",
       "    <tr>\n",
       "      <th>18483</th>\n",
       "      <td>5</td>\n",
       "      <td>1</td>\n",
       "      <td>30000</td>\n",
       "      <td>0</td>\n",
       "      <td>0</td>\n",
       "      <td>5</td>\n",
       "      <td>1</td>\n",
       "      <td>0</td>\n",
       "      <td>1</td>\n",
       "      <td>3</td>\n",
       "      <td>57</td>\n",
       "      <td>1</td>\n",
       "    </tr>\n",
       "  </tbody>\n",
       "</table>\n",
       "</div>"
      ],
      "text/plain": [
       "       MaritalStatus  Gender  YearlyIncome  TotalChildren  \\\n",
       "18479              4       1         30000              1   \n",
       "18480              4       2         30000              3   \n",
       "18481              4       1         30000              3   \n",
       "18482              5       1         30000              3   \n",
       "18483              5       1         30000              0   \n",
       "\n",
       "       NumberChildrenAtHome  EnglishEducation  HouseOwnerFlag  \\\n",
       "18479                     0                 4               1   \n",
       "18480                     0                 4               1   \n",
       "18481                     0                 4               0   \n",
       "18482                     0                 5               1   \n",
       "18483                     0                 5               1   \n",
       "\n",
       "       NumberCarsOwned  CommuteDistance  Region  Age  BikeBuyer  \n",
       "18479                0                1       3   58          1  \n",
       "18480                0                1       3   56          1  \n",
       "18481                0                1       3   57          1  \n",
       "18482                0                1       3   58          1  \n",
       "18483                0                1       3   57          1  "
      ]
     },
     "execution_count": 7,
     "metadata": {},
     "output_type": "execute_result"
    }
   ],
   "source": [
    "dataframe.tail(5)"
   ]
  },
  {
   "cell_type": "code",
   "execution_count": 8,
   "metadata": {},
   "outputs": [
    {
     "data": {
      "text/plain": [
       "(18484, 12)"
      ]
     },
     "execution_count": 8,
     "metadata": {},
     "output_type": "execute_result"
    }
   ],
   "source": [
    "dataframe.shape"
   ]
  },
  {
   "cell_type": "markdown",
   "metadata": {},
   "source": [
    "The describe function gives us descriptive statistics about our data. \n",
    "\n",
    "- **mean** = average \n",
    "- **median** = values in the middle of the rage\n",
    "- **mode** = The number which appears most often in a set of numbers\n",
    "\n",
    "What is the average age in our data set? \n",
    "\n",
    "What is the maximimun number of cars owned by a person in our data set? "
   ]
  },
  {
   "cell_type": "code",
   "execution_count": 13,
   "metadata": {},
   "outputs": [
    {
     "data": {
      "text/html": [
       "<div>\n",
       "<style scoped>\n",
       "    .dataframe tbody tr th:only-of-type {\n",
       "        vertical-align: middle;\n",
       "    }\n",
       "\n",
       "    .dataframe tbody tr th {\n",
       "        vertical-align: top;\n",
       "    }\n",
       "\n",
       "    .dataframe thead th {\n",
       "        text-align: right;\n",
       "    }\n",
       "</style>\n",
       "<table border=\"1\" class=\"dataframe\">\n",
       "  <thead>\n",
       "    <tr style=\"text-align: right;\">\n",
       "      <th></th>\n",
       "      <th>MaritalStatus</th>\n",
       "      <th>Gender</th>\n",
       "      <th>YearlyIncome</th>\n",
       "      <th>TotalChildren</th>\n",
       "      <th>NumberChildrenAtHome</th>\n",
       "      <th>EnglishEducation</th>\n",
       "      <th>HouseOwnerFlag</th>\n",
       "      <th>NumberCarsOwned</th>\n",
       "      <th>CommuteDistance</th>\n",
       "      <th>Region</th>\n",
       "      <th>Age</th>\n",
       "      <th>BikeBuyer</th>\n",
       "    </tr>\n",
       "  </thead>\n",
       "  <tbody>\n",
       "    <tr>\n",
       "      <th>count</th>\n",
       "      <td>18484.000000</td>\n",
       "      <td>18484.000000</td>\n",
       "      <td>18484.000000</td>\n",
       "      <td>18484.000000</td>\n",
       "      <td>18484.000000</td>\n",
       "      <td>18484.000000</td>\n",
       "      <td>18484.000000</td>\n",
       "      <td>18484.000000</td>\n",
       "      <td>18484.000000</td>\n",
       "      <td>18484.000000</td>\n",
       "      <td>18484.000000</td>\n",
       "      <td>18484.000000</td>\n",
       "    </tr>\n",
       "    <tr>\n",
       "      <th>mean</th>\n",
       "      <td>3.310106</td>\n",
       "      <td>1.494103</td>\n",
       "      <td>57305.777970</td>\n",
       "      <td>1.844352</td>\n",
       "      <td>1.004058</td>\n",
       "      <td>3.310106</td>\n",
       "      <td>0.676369</td>\n",
       "      <td>1.502705</td>\n",
       "      <td>6.003246</td>\n",
       "      <td>1.789710</td>\n",
       "      <td>54.603928</td>\n",
       "      <td>0.494049</td>\n",
       "    </tr>\n",
       "    <tr>\n",
       "      <th>std</th>\n",
       "      <td>1.426147</td>\n",
       "      <td>0.499979</td>\n",
       "      <td>32285.841703</td>\n",
       "      <td>1.612408</td>\n",
       "      <td>1.522660</td>\n",
       "      <td>1.426147</td>\n",
       "      <td>0.467874</td>\n",
       "      <td>1.138394</td>\n",
       "      <td>6.382562</td>\n",
       "      <td>0.872664</td>\n",
       "      <td>11.255252</td>\n",
       "      <td>0.499978</td>\n",
       "    </tr>\n",
       "    <tr>\n",
       "      <th>min</th>\n",
       "      <td>1.000000</td>\n",
       "      <td>1.000000</td>\n",
       "      <td>10000.000000</td>\n",
       "      <td>0.000000</td>\n",
       "      <td>0.000000</td>\n",
       "      <td>1.000000</td>\n",
       "      <td>0.000000</td>\n",
       "      <td>0.000000</td>\n",
       "      <td>1.000000</td>\n",
       "      <td>1.000000</td>\n",
       "      <td>36.000000</td>\n",
       "      <td>0.000000</td>\n",
       "    </tr>\n",
       "    <tr>\n",
       "      <th>25%</th>\n",
       "      <td>2.000000</td>\n",
       "      <td>1.000000</td>\n",
       "      <td>30000.000000</td>\n",
       "      <td>0.000000</td>\n",
       "      <td>0.000000</td>\n",
       "      <td>2.000000</td>\n",
       "      <td>0.000000</td>\n",
       "      <td>1.000000</td>\n",
       "      <td>1.000000</td>\n",
       "      <td>1.000000</td>\n",
       "      <td>46.000000</td>\n",
       "      <td>0.000000</td>\n",
       "    </tr>\n",
       "    <tr>\n",
       "      <th>50%</th>\n",
       "      <td>3.000000</td>\n",
       "      <td>1.000000</td>\n",
       "      <td>60000.000000</td>\n",
       "      <td>2.000000</td>\n",
       "      <td>0.000000</td>\n",
       "      <td>3.000000</td>\n",
       "      <td>1.000000</td>\n",
       "      <td>2.000000</td>\n",
       "      <td>2.000000</td>\n",
       "      <td>1.000000</td>\n",
       "      <td>53.000000</td>\n",
       "      <td>0.000000</td>\n",
       "    </tr>\n",
       "    <tr>\n",
       "      <th>75%</th>\n",
       "      <td>5.000000</td>\n",
       "      <td>2.000000</td>\n",
       "      <td>70000.000000</td>\n",
       "      <td>3.000000</td>\n",
       "      <td>2.000000</td>\n",
       "      <td>5.000000</td>\n",
       "      <td>1.000000</td>\n",
       "      <td>2.000000</td>\n",
       "      <td>10.000000</td>\n",
       "      <td>3.000000</td>\n",
       "      <td>62.000000</td>\n",
       "      <td>1.000000</td>\n",
       "    </tr>\n",
       "    <tr>\n",
       "      <th>max</th>\n",
       "      <td>5.000000</td>\n",
       "      <td>2.000000</td>\n",
       "      <td>170000.000000</td>\n",
       "      <td>5.000000</td>\n",
       "      <td>5.000000</td>\n",
       "      <td>5.000000</td>\n",
       "      <td>1.000000</td>\n",
       "      <td>4.000000</td>\n",
       "      <td>20.000000</td>\n",
       "      <td>3.000000</td>\n",
       "      <td>106.000000</td>\n",
       "      <td>1.000000</td>\n",
       "    </tr>\n",
       "  </tbody>\n",
       "</table>\n",
       "</div>"
      ],
      "text/plain": [
       "       MaritalStatus        Gender   YearlyIncome  TotalChildren  \\\n",
       "count   18484.000000  18484.000000   18484.000000   18484.000000   \n",
       "mean        3.310106      1.494103   57305.777970       1.844352   \n",
       "std         1.426147      0.499979   32285.841703       1.612408   \n",
       "min         1.000000      1.000000   10000.000000       0.000000   \n",
       "25%         2.000000      1.000000   30000.000000       0.000000   \n",
       "50%         3.000000      1.000000   60000.000000       2.000000   \n",
       "75%         5.000000      2.000000   70000.000000       3.000000   \n",
       "max         5.000000      2.000000  170000.000000       5.000000   \n",
       "\n",
       "       NumberChildrenAtHome  EnglishEducation  HouseOwnerFlag  \\\n",
       "count          18484.000000      18484.000000    18484.000000   \n",
       "mean               1.004058          3.310106        0.676369   \n",
       "std                1.522660          1.426147        0.467874   \n",
       "min                0.000000          1.000000        0.000000   \n",
       "25%                0.000000          2.000000        0.000000   \n",
       "50%                0.000000          3.000000        1.000000   \n",
       "75%                2.000000          5.000000        1.000000   \n",
       "max                5.000000          5.000000        1.000000   \n",
       "\n",
       "       NumberCarsOwned  CommuteDistance        Region           Age  \\\n",
       "count     18484.000000     18484.000000  18484.000000  18484.000000   \n",
       "mean          1.502705         6.003246      1.789710     54.603928   \n",
       "std           1.138394         6.382562      0.872664     11.255252   \n",
       "min           0.000000         1.000000      1.000000     36.000000   \n",
       "25%           1.000000         1.000000      1.000000     46.000000   \n",
       "50%           2.000000         2.000000      1.000000     53.000000   \n",
       "75%           2.000000        10.000000      3.000000     62.000000   \n",
       "max           4.000000        20.000000      3.000000    106.000000   \n",
       "\n",
       "          BikeBuyer  \n",
       "count  18484.000000  \n",
       "mean       0.494049  \n",
       "std        0.499978  \n",
       "min        0.000000  \n",
       "25%        0.000000  \n",
       "50%        0.000000  \n",
       "75%        1.000000  \n",
       "max        1.000000  "
      ]
     },
     "execution_count": 13,
     "metadata": {},
     "output_type": "execute_result"
    }
   ],
   "source": [
    "dataframe.describe()"
   ]
  },
  {
   "cell_type": "markdown",
   "metadata": {},
   "source": [
    "In the dataframe below we are assigning our dataframe to an array. "
   ]
  },
  {
   "cell_type": "code",
   "execution_count": 14,
   "metadata": {},
   "outputs": [],
   "source": [
    "array = dataframe.values"
   ]
  },
  {
   "cell_type": "markdown",
   "metadata": {},
   "source": [
    "The code below is the trickest part of the exercise. Now, we are assinging X and y to an array. \n",
    "\n",
    "> That looks pretty easy but keep in mind that an array starts at 0. \n",
    "\n",
    "If you take a look at the shape of our dataframe (shape means the number of columns and rows) you can see we have 12 rows. \n",
    "\n",
    "On the X array below we saying... include all items in the array from 0 to 11. \n",
    "\n",
    "On the y array below we are saying... just use the column in the array mapped to the **11th row**. The **BikeBuyer** column. \n",
    "\n",
    "\n",
    "\n"
   ]
  },
  {
   "cell_type": "code",
   "execution_count": 15,
   "metadata": {},
   "outputs": [],
   "source": [
    "X = array[:,0:11] \n",
    "Y = array[:,11]"
   ]
  },
  {
   "cell_type": "code",
   "execution_count": 25,
   "metadata": {},
   "outputs": [
    {
     "name": "stdout",
     "output_type": "stream",
     "text": [
      "[1 1 1 ... 1 1 1]\n"
     ]
    }
   ],
   "source": [
    "print(Y)"
   ]
  },
  {
   "cell_type": "markdown",
   "metadata": {},
   "source": [
    "We are using group by to view the distribution of values in our **BikeBuyer** column. Recall that this column is our **target variable**. It's that thing we are trying to predict. \n",
    "\n",
    "The really nice part about the distribution of buyers and non-buyers (the number of 1s versus 0s) is that they are balanced. \n",
    "\n",
    "> This is actually very important when it comes to scoring our model. Classiﬁcation accuracy is the number of correct predictions made as a ratio of all predictions made. This is the most common evaluation metric for classiﬁcation problems, it is also the most misused.\n",
    "\n",
    "**Accuracy** is only really useful when there are an even distribution of values in a data set. The good news for us is in our data set they are nearly perfectly even. "
   ]
  },
  {
   "cell_type": "code",
   "execution_count": 26,
   "metadata": {},
   "outputs": [
    {
     "name": "stdout",
     "output_type": "stream",
     "text": [
      "BikeBuyer\n",
      "0    9352\n",
      "1    9132\n",
      "dtype: int64\n"
     ]
    }
   ],
   "source": [
    "print(dataframe.groupby('BikeBuyer').size())"
   ]
  },
  {
   "cell_type": "markdown",
   "metadata": {},
   "source": [
    "In the next cell let's import a model called **train_test_split** and one called **SVC**. \n",
    "\n",
    "Learning the parameters of a prediction function and testing it on the same data is a methodological mistake: a model that would just repeat the labels of the samples that it has just seen would have a perfect score but would fail to predict anything useful on yet-unseen data. \n",
    "\n",
    "> This situation is called **overfitting.** To avoid it, it is common practice when performing a (supervised) machine learning experiment to hold out part of the available data as a test set X_test, y_test. \n",
    "\n",
    "We are also importing a Support Vector Machine (sklearn.**svm**) If you navigate to the sklearn picture above you can see that SVC is a classifier in the labled data section. Many real world models will use classificaiton.\n",
    "\n",
    "In sklearn it's called a SVC or support vector classifier. \n",
    "\n",
    "\n"
   ]
  },
  {
   "cell_type": "markdown",
   "metadata": {},
   "source": [
    "Support Vector Machines (SVMs) are a powerful supervised learning algorithm used for classification or for regression. SVMs are a discriminative classifier: that is, they draw a boundary between clusters of data.\n",
    "\n",
    "> <p><a href=\"https://www.youtube.com/watch?v=eUfvyUEGMD8&t=21s\"> Worlds Best SVM Overview</a></p>\n",
    "\n",
    "Support Vector Machines are perhaps one of the most popular and talked about machine learning algorithms."
   ]
  },
  {
   "cell_type": "code",
   "execution_count": 28,
   "metadata": {
    "scrolled": true
   },
   "outputs": [],
   "source": [
    "from sklearn.model_selection import train_test_split \n",
    "from sklearn.svm import SVC"
   ]
  },
  {
   "cell_type": "markdown",
   "metadata": {},
   "source": [
    "In the cell below we are specifying the test size. If our test size is 25% of the data then our training size is 75% of the data. \n",
    "\n",
    "Most modelers choose to split their data 70/30 or 80/20. The larger portion is used to train the data. \n",
    "\n",
    "The seed below is so we can reproduce our results. "
   ]
  },
  {
   "cell_type": "code",
   "execution_count": 29,
   "metadata": {},
   "outputs": [],
   "source": [
    "test_size = 0.25\n",
    "seed = 7"
   ]
  },
  {
   "cell_type": "markdown",
   "metadata": {},
   "source": [
    "In the cell below we are creating the split. Take note we are using the variables above. \n",
    "\n",
    "- test_size=test_size\n",
    "- random_state=seed\n",
    "\n"
   ]
  },
  {
   "cell_type": "code",
   "execution_count": 30,
   "metadata": {},
   "outputs": [],
   "source": [
    "X_train, X_test, Y_train, Y_test = train_test_split(X, Y, test_size=test_size, random_state=seed)"
   ]
  },
  {
   "cell_type": "markdown",
   "metadata": {},
   "source": [
    "Next we set the model we are going to use. In the code below we are simply creating a variable or place holder called model for the SVC algorithm. "
   ]
  },
  {
   "cell_type": "code",
   "execution_count": 31,
   "metadata": {},
   "outputs": [],
   "source": [
    "model = SVC()"
   ]
  },
  {
   "cell_type": "markdown",
   "metadata": {},
   "source": [
    "In the cell below we are fitting our model variable to our training set. The code is clean and straightforward. For now, we call the model as is without any parameters. \n",
    "\n",
    "> Many of the classification models tend to do well out of the box. That means you can often get solid results without much tuning. "
   ]
  },
  {
   "cell_type": "code",
   "execution_count": 32,
   "metadata": {},
   "outputs": [
    {
     "data": {
      "text/plain": [
       "SVC(C=1.0, cache_size=200, class_weight=None, coef0=0.0,\n",
       "  decision_function_shape='ovr', degree=3, gamma='auto', kernel='rbf',\n",
       "  max_iter=-1, probability=False, random_state=None, shrinking=True,\n",
       "  tol=0.001, verbose=False)"
      ]
     },
     "execution_count": 32,
     "metadata": {},
     "output_type": "execute_result"
    }
   ],
   "source": [
    "model.fit(X_train, Y_train) "
   ]
  },
  {
   "cell_type": "markdown",
   "metadata": {},
   "source": [
    "Next we use result to get the results of model."
   ]
  },
  {
   "cell_type": "code",
   "execution_count": 33,
   "metadata": {},
   "outputs": [],
   "source": [
    "result = model.score(X_test, Y_test)"
   ]
  },
  {
   "cell_type": "markdown",
   "metadata": {},
   "source": [
    "Lastly we print the accuracy of our model. "
   ]
  },
  {
   "cell_type": "code",
   "execution_count": 42,
   "metadata": {},
   "outputs": [
    {
     "name": "stdout",
     "output_type": "stream",
     "text": [
      "Accuracy: 78.39884601514605\n"
     ]
    }
   ],
   "source": [
    "print(f\"Accuracy: {result*100.0}\")"
   ]
  },
  {
   "cell_type": "markdown",
   "metadata": {},
   "source": [
    "In the code below let's put it all togehter. "
   ]
  },
  {
   "cell_type": "code",
   "execution_count": 43,
   "metadata": {},
   "outputs": [
    {
     "name": "stdout",
     "output_type": "stream",
     "text": [
      "Accuracy: 77.83988460151461\n"
     ]
    }
   ],
   "source": [
    "from pandas import read_csv\n",
    "from numpy import set_printoptions\n",
    "from sklearn.model_selection import train_test_split \n",
    "from sklearn.svm import SVC\n",
    "from sklearn.neighbors import KNeighborsClassifier \n",
    "from sklearn.ensemble import RandomForestClassifier\n",
    "\n",
    "filename = 'BBC.csv'\n",
    "dataframe = read_csv(filename) \n",
    "\n",
    "array = dataframe.values\n",
    "X = array[:,0:11] \n",
    "Y = array[:,11]\n",
    "\n",
    "test_size = .30\n",
    "seed = 45\n",
    "X_train, X_test, Y_train, Y_test = train_test_split(X, Y, test_size=test_size, random_state=seed)\n",
    "\n",
    "model = RandomForestClassifier()\n",
    "model.fit(X_train, Y_train) \n",
    "\n",
    "result = model.score(X_test, Y_test)\n",
    "\n",
    "print(f\"Accuracy: {result*100.0}\")\n"
   ]
  },
  {
   "cell_type": "markdown",
   "metadata": {},
   "source": [
    "In cell below let's use a different algorithim for our tests. \n",
    "\n",
    "> We are going to run our entire model in one cell. \n",
    "\n",
    "We only have to take two simple steps to substitue another model. \n",
    "\n",
    "- Import the new model. (from sklearn.neighbors import KNeighborsClassifier)\n",
    "- Map the model variable to our new algorithm. (model = KNeighborsClassifier())\n",
    "\n",
    "I use comments below to show what was changed. "
   ]
  },
  {
   "cell_type": "code",
   "execution_count": 45,
   "metadata": {},
   "outputs": [
    {
     "name": "stdout",
     "output_type": "stream",
     "text": [
      "Accuracy: 78.1644428416877\n"
     ]
    }
   ],
   "source": [
    "from pandas import read_csv\n",
    "from numpy import set_printoptions\n",
    "from sklearn.model_selection import train_test_split \n",
    "from sklearn.svm import SVC\n",
    "from sklearn.neighbors import KNeighborsClassifier \n",
    "from sklearn.ensemble import RandomForestClassifier\n",
    "\n",
    "filename = 'BBC.csv'\n",
    "dataframe = read_csv(filename) \n",
    "\n",
    "array = dataframe.values\n",
    "X = array[:,0:11] \n",
    "Y = array[:,11]\n",
    "\n",
    "test_size = .30\n",
    "seed = 45\n",
    "X_train, X_test, Y_train, Y_test = train_test_split(X, Y, test_size=test_size, random_state=seed)\n",
    "\n",
    "model = SVC()\n",
    "model.fit(X_train, Y_train) \n",
    "\n",
    "result = model.score(X_test, Y_test)\n",
    "\n",
    "print(f\"Accuracy: {result*100.0}\")"
   ]
  },
  {
   "cell_type": "code",
   "execution_count": null,
   "metadata": {},
   "outputs": [],
   "source": []
  }
 ],
 "metadata": {
  "kernelspec": {
   "display_name": "Python 3",
   "language": "python",
   "name": "python3"
  },
  "language_info": {
   "codemirror_mode": {
    "name": "ipython",
    "version": 3
   },
   "file_extension": ".py",
   "mimetype": "text/x-python",
   "name": "python",
   "nbconvert_exporter": "python",
   "pygments_lexer": "ipython3",
   "version": "3.6.4"
  }
 },
 "nbformat": 4,
 "nbformat_minor": 2
}
